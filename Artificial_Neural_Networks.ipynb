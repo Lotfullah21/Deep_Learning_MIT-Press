{
  "nbformat": 4,
  "nbformat_minor": 0,
  "metadata": {
    "colab": {
      "name": "Artificial Neural Networks.ipynb",
      "provenance": [],
      "authorship_tag": "ABX9TyMHC3PFSVYDlrFS3eDYvUrb",
      "include_colab_link": true
    },
    "kernelspec": {
      "name": "python3",
      "display_name": "Python 3"
    },
    "language_info": {
      "name": "python"
    }
  },
  "cells": [
    {
      "cell_type": "markdown",
      "metadata": {
        "id": "view-in-github",
        "colab_type": "text"
      },
      "source": [
        "<a href=\"https://colab.research.google.com/github/Lotfullah21/Deep_Learning_MIT-Press/blob/main/Artificial_Neural_Networks.ipynb\" target=\"_parent\"><img src=\"https://colab.research.google.com/assets/colab-badge.svg\" alt=\"Open In Colab\"/></a>"
      ]
    },
    {
      "cell_type": "code",
      "execution_count": null,
      "metadata": {
        "id": "DerZRMjGdFdI"
      },
      "outputs": [],
      "source": [
        ""
      ]
    },
    {
      "cell_type": "markdown",
      "source": [
        "# Artifical Neural Network\n",
        "in the begining the Anns were thought to work same as brain, that is where the name come from, but in reality it has less to do with brain, even though research is going to make computers to mimic the brain.\n",
        "but in reality, it is just a mapping function, where it consists of many components like, Input units, Hidden layer, and output layer.\n",
        "\n"
      ],
      "metadata": {
        "id": "xAWY1KEUZ4Ml"
      }
    },
    {
      "cell_type": "markdown",
      "source": [
        "## Input Layer\n",
        "a layer is where we have bunhch of neurons parallel to each other, this layer can be consisit of one or multiple inputs, an input is also known as a unit in ANNs.\n",
        "thses units are the primary source of information.\n"
      ],
      "metadata": {
        "id": "CXaF1FvCa48Q"
      }
    },
    {
      "cell_type": "code",
      "source": [
        ""
      ],
      "metadata": {
        "id": "hQRcsL6XgN1M"
      },
      "execution_count": null,
      "outputs": []
    },
    {
      "cell_type": "markdown",
      "source": [
        "## Hidden Layer\n",
        "it is the layer between the input and output units,it is where the magic happens, adding non_linearity to our function to map the complex function.\n",
        "\n",
        "in theorems of general approximation , we are having that a model with a single hidden layer can generalize any kind of function.\n"
      ],
      "metadata": {
        "id": "5VbJK8fCbG1r"
      }
    },
    {
      "cell_type": "markdown",
      "source": [
        "# Output Layer\n",
        "in this layer , after doing certain calculation in hidden layers we output what we have learned and compares it with our desired output"
      ],
      "metadata": {
        "id": "8lnI_4b2bxLP"
      }
    },
    {
      "cell_type": "markdown",
      "source": [
        "## Network \n",
        "a network is consist of many layers, network is also called as model\n",
        "a model maps the inputs to the outputs by learning meaninful features and representation such that the difference between what the model is givining with what we want should be minimum.\n"
      ],
      "metadata": {
        "id": "62k1mPLYdsFM"
      }
    },
    {
      "cell_type": "markdown",
      "source": [
        "## Loss Function \n",
        "this is difference between the model output and its true output(desired feature), we want to minimize this function during training. this says how happy or unhappy we are with our model performance.\n"
      ],
      "metadata": {
        "id": "1TVwmUobejb7"
      }
    },
    {
      "cell_type": "markdown",
      "source": [
        "## Optimizer\n",
        "it is a technique which determines how we are going to update our weights based on the loss function."
      ],
      "metadata": {
        "id": "m-H8R0ZMfEAy"
      }
    },
    {
      "cell_type": "code",
      "source": [
        ""
      ],
      "metadata": {
        "id": "G2hB1D2VZ9W9"
      },
      "execution_count": null,
      "outputs": []
    }
  ]
}