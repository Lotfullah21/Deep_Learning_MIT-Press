{
  "nbformat": 4,
  "nbformat_minor": 0,
  "metadata": {
    "colab": {
      "name": "Artificial Neural Networks.ipynb",
      "provenance": [],
      "authorship_tag": "ABX9TyMVqjd9MPyr/e8S4cjslvm2",
      "include_colab_link": true
    },
    "kernelspec": {
      "name": "python3",
      "display_name": "Python 3"
    },
    "language_info": {
      "name": "python"
    }
  },
  "cells": [
    {
      "cell_type": "markdown",
      "metadata": {
        "id": "view-in-github",
        "colab_type": "text"
      },
      "source": [
        "<a href=\"https://colab.research.google.com/github/Lotfullah21/Deep_Learning_MIT-Press/blob/main/Artificial_Neural_Networks.ipynb\" target=\"_parent\"><img src=\"https://colab.research.google.com/assets/colab-badge.svg\" alt=\"Open In Colab\"/></a>"
      ]
    },
    {
      "cell_type": "code",
      "execution_count": null,
      "metadata": {
        "id": "DerZRMjGdFdI"
      },
      "outputs": [],
      "source": [
        ""
      ]
    },
    {
      "cell_type": "markdown",
      "source": [
        "# Artifical Neural Network\n",
        "in the begining the Anns were thought to work same as brain, that is where the name come from, but in reality it has less to do with brain, even though research is going to make computers to mimic the brain.\n",
        "but in reality, it is just a mapping function, where it consists of many components like, Input units, Hidden layer, and output layer.\n",
        "\n"
      ],
      "metadata": {
        "id": "xAWY1KEUZ4Ml"
      }
    },
    {
      "cell_type": "markdown",
      "source": [
        "## Input Layer\n",
        "a layer is where we have bunhch of neurons parallel to each other, this layer can be consisit of one or multiple inputs, an input is also known as a unit in ANNs.\n",
        "thses units are the primary source of information.\n"
      ],
      "metadata": {
        "id": "CXaF1FvCa48Q"
      }
    },
    {
      "cell_type": "markdown",
      "source": [
        "## Hidden Layer\n",
        "it is the layer between the input and output units,it is where the magic happens, adding non_linearity to our function to map the complex function.\n",
        "\n",
        "in theorems of general approximation , we are having that a model with a single hidden layer can generalize any kind of function.\n"
      ],
      "metadata": {
        "id": "5VbJK8fCbG1r"
      }
    },
    {
      "cell_type": "markdown",
      "source": [
        "# Output Layer\n",
        "in this layer , after doing certain calculation in hidden layers we output what we have learned and compares it with our desired output"
      ],
      "metadata": {
        "id": "8lnI_4b2bxLP"
      }
    },
    {
      "cell_type": "markdown",
      "source": [
        "## Network \n",
        "a network is consist of many layers, network is also called as model\n",
        "a model maps the inputs to the outputs by learning meaninful features and representation such that the difference between what the model is givining with what we want should be minimum.\n"
      ],
      "metadata": {
        "id": "62k1mPLYdsFM"
      }
    },
    {
      "cell_type": "markdown",
      "source": [
        "## Loss Function \n",
        "this is difference between the model output and its true output(desired feature), we want to minimize this function during training. this says how happy or unhappy we are with our model performance.\n"
      ],
      "metadata": {
        "id": "1TVwmUobejb7"
      }
    },
    {
      "cell_type": "markdown",
      "source": [
        "## Optimizer\n",
        "it is a technique which determines how we are going to update our weights based on the loss function."
      ],
      "metadata": {
        "id": "m-H8R0ZMfEAy"
      }
    },
    {
      "cell_type": "markdown",
      "source": [
        "in this notebook we will use **Keras**, it is a model-level library, providing high-level building blocks for developing deep-learning models"
      ],
      "metadata": {
        "id": "4ds5akJooa2k"
      }
    },
    {
      "cell_type": "markdown",
      "source": [
        "## Building the model\n",
        "it is a movie recommendation system,wheter the customer liked it or not, and we decide that based on the text content of the reviews.\n"
      ],
      "metadata": {
        "id": "W9wnLYlOpDJr"
      }
    },
    {
      "cell_type": "code",
      "source": [
        "from keras.datasets import imdb\n",
        "(train_data, train_labels),(test_data,test_lables) = imdb.load_data(num_words = 15000)"
      ],
      "metadata": {
        "id": "G2hB1D2VZ9W9"
      },
      "execution_count": 11,
      "outputs": []
    },
    {
      "cell_type": "markdown",
      "source": [
        "train_data and test_data are the reviews which endcoded into integers\n",
        "and the their labels are either 0 or 1, negative and positive respectively.\n",
        "num_words = 15000 means that we keep 15000 most frequently used words and discard the ones which happened to be used lesser."
      ],
      "metadata": {
        "id": "3JLOP0e6qyCp"
      }
    },
    {
      "cell_type": "code",
      "source": [
        "train_data[0]\n",
        "train_labels[0]"
      ],
      "metadata": {
        "colab": {
          "base_uri": "https://localhost:8080/"
        },
        "id": "xn5Syp-_qIAM",
        "outputId": "be7fb2e4-8626-4a54-92b9-04888aa98dcb"
      },
      "execution_count": 12,
      "outputs": [
        {
          "output_type": "execute_result",
          "data": {
            "text/plain": [
              "1"
            ]
          },
          "metadata": {},
          "execution_count": 12
        }
      ]
    },
    {
      "cell_type": "code",
      "source": [
        "# train_data[0:10]"
      ],
      "metadata": {
        "id": "q8sYBz-YrVdY"
      },
      "execution_count": 14,
      "outputs": []
    },
    {
      "cell_type": "code",
      "source": [
        "max([max(sequence) for sequence in train_data])"
      ],
      "metadata": {
        "colab": {
          "base_uri": "https://localhost:8080/"
        },
        "id": "FA-1iEBMvepW",
        "outputId": "27a47036-250e-4ca0-b149-af8e2d4468e6"
      },
      "execution_count": 16,
      "outputs": [
        {
          "output_type": "execute_result",
          "data": {
            "text/plain": [
              "14999"
            ]
          },
          "metadata": {},
          "execution_count": 16
        }
      ]
    },
    {
      "cell_type": "code",
      "source": [
        "# lets decode one review back to words\n",
        "word_index = imdb.get_word_index()\n",
        "reverse_word_index = dict(\n",
        "    [(value,key) for (key,value) in word_index.items()])\n",
        "decode_review  = \" \".join(\n",
        "    [reverse_word_index.get(i-3,'?') for i in train_data[2]])\n"
      ],
      "metadata": {
        "id": "dZLYzQtQwYZK"
      },
      "execution_count": 27,
      "outputs": []
    },
    {
      "cell_type": "code",
      "source": [
        "decode_review[:]"
      ],
      "metadata": {
        "colab": {
          "base_uri": "https://localhost:8080/",
          "height": 105
        },
        "id": "9XpIl-ALxdZU",
        "outputId": "209951b6-1c2b-4fd0-88df-269f783cfe4d"
      },
      "execution_count": 32,
      "outputs": [
        {
          "output_type": "execute_result",
          "data": {
            "text/plain": [
              "\"? this has to be one of the worst films of the 1990s when my friends i were watching this film being the target audience it was aimed at we just sat watched the first half an hour with our jaws touching the floor at how bad it really was the rest of the time everyone else in the theatre just started talking to each other leaving or generally crying into their popcorn that they actually paid money they had ? working to watch this feeble excuse for a film it must have looked like a great idea on paper but on film it looks like no one in the film has a clue what is going on crap acting crap costumes i can't get across how ? this is to watch save yourself an hour a bit of your life\""
            ],
            "application/vnd.google.colaboratory.intrinsic+json": {
              "type": "string"
            }
          },
          "metadata": {},
          "execution_count": 32
        }
      ]
    },
    {
      "cell_type": "markdown",
      "source": [
        "For neural networks, the data should be in the form of tensors. \n",
        "and of the techniques to convert intgers into tensors is by using one-hot encoding, which turns all indices into zeros excet the ones which we are feeding."
      ],
      "metadata": {
        "id": "IrEEwp5PyVcw"
      }
    },
    {
      "cell_type": "code",
      "source": [
        "import numpy as np\n",
        "def vectorize_sequences(sequences,dimension=15000):\n",
        "  result = np.zeros((len(sequences),dimension))\n",
        "  for i , sequence in enumerate(sequences):\n",
        "    # set specific indices of results[i] to 1s\n",
        "    result[i,sequence] = 1\n",
        "  return result\n",
        "# vectorize the data\n",
        "x_train = vectorize_sequences(train_data)\n",
        "x_test = vectorize_sequences(test_data)"
      ],
      "metadata": {
        "id": "eLT7LUlrx6sK"
      },
      "execution_count": 34,
      "outputs": []
    },
    {
      "cell_type": "code",
      "source": [
        "x_train[0]"
      ],
      "metadata": {
        "colab": {
          "base_uri": "https://localhost:8080/"
        },
        "id": "ERvV4giJ0JmC",
        "outputId": "4a01f13d-3c10-459a-b06b-de09a35c6812"
      },
      "execution_count": 35,
      "outputs": [
        {
          "output_type": "execute_result",
          "data": {
            "text/plain": [
              "array([0., 1., 1., ..., 0., 0., 0.])"
            ]
          },
          "metadata": {},
          "execution_count": 35
        }
      ]
    },
    {
      "cell_type": "markdown",
      "source": [
        "Vectorize the labels too\n",
        "y_train = np.asarray(train_labels).astype('float32')"
      ],
      "metadata": {
        "id": "2jckiR9u0aDa"
      }
    },
    {
      "cell_type": "code",
      "source": [
        "y_train = np.asarray(train_labels).astype('float32')\n",
        "y_test = np.asarray(test_lables).astype('float32')\n"
      ],
      "metadata": {
        "id": "EAD7rcIR0Vrh"
      },
      "execution_count": 37,
      "outputs": []
    },
    {
      "cell_type": "code",
      "source": [
        ""
      ],
      "metadata": {
        "id": "eJ-9kMpa0uco"
      },
      "execution_count": null,
      "outputs": []
    },
    {
      "cell_type": "code",
      "source": [
        ""
      ],
      "metadata": {
        "id": "o6tgle5P1QsN"
      },
      "execution_count": null,
      "outputs": []
    }
  ]
}