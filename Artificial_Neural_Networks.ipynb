{
  "nbformat": 4,
  "nbformat_minor": 0,
  "metadata": {
    "colab": {
      "name": "Artificial Neural Networks.ipynb",
      "provenance": [],
      "authorship_tag": "ABX9TyMDpoLlEXnqoSGlcdCWtT3+",
      "include_colab_link": true
    },
    "kernelspec": {
      "name": "python3",
      "display_name": "Python 3"
    },
    "language_info": {
      "name": "python"
    },
    "accelerator": "GPU",
    "gpuClass": "standard"
  },
  "cells": [
    {
      "cell_type": "markdown",
      "metadata": {
        "id": "view-in-github",
        "colab_type": "text"
      },
      "source": [
        "<a href=\"https://colab.research.google.com/github/Lotfullah21/Deep_Learning_MIT-Press/blob/main/Artificial_Neural_Networks.ipynb\" target=\"_parent\"><img src=\"https://colab.research.google.com/assets/colab-badge.svg\" alt=\"Open In Colab\"/></a>"
      ]
    },
    {
      "cell_type": "markdown",
      "source": [
        "# Artifical Neural Network\n",
        "in the begining the Anns were thought to work same as brain, that is where the name come from, but in reality it has less to do with brain, even though research is going to make computers to mimic the brain.\n",
        "but in reality, it is just a mapping function, where it consists of many components like, Input units, Hidden layer, and output layer.\n",
        "\n"
      ],
      "metadata": {
        "id": "xAWY1KEUZ4Ml"
      }
    },
    {
      "cell_type": "markdown",
      "source": [
        "## Input Layer\n",
        "a layer is where we have bunhch of neurons parallel to each other, this layer can be consisit of one or multiple inputs, an input is also known as a unit in ANNs.\n",
        "thses units are the primary source of information.\n"
      ],
      "metadata": {
        "id": "CXaF1FvCa48Q"
      }
    },
    {
      "cell_type": "markdown",
      "source": [
        "## Hidden Layer\n",
        "it is the layer between the input and output units,it is where the magic happens, adding non_linearity to our function to map the complex function.\n",
        "\n",
        "in theorems of general approximation , we are having that a model with a single hidden layer can generalize any kind of function.\n",
        "more number of hidden units means we can extract more and complex features.\n",
        "But keeping in mind that more number of units are layers does not help us in getting what we want, they should be carfeully choosen.\n"
      ],
      "metadata": {
        "id": "5VbJK8fCbG1r"
      }
    },
    {
      "cell_type": "markdown",
      "source": [
        "# Output Layer\n",
        "in this layer , after doing certain calculation in hidden layers we output what we have learned and compares it with our desired output.\n",
        "the number of output units depend on the model we want to build, for example for binary outputs, we have 2 units, for multiclass models, we are having more than one or two units."
      ],
      "metadata": {
        "id": "8lnI_4b2bxLP"
      }
    },
    {
      "cell_type": "markdown",
      "source": [
        "## Network \n",
        "a network is consist of many layers, network is also called as model\n",
        "a model maps the inputs to the outputs by learning meaninful features and representation such that the difference between what the model is givining with what we want should be minimum.\n"
      ],
      "metadata": {
        "id": "62k1mPLYdsFM"
      }
    },
    {
      "cell_type": "markdown",
      "source": [
        "## Loss Function \n",
        "this is difference between the model output and its true output(desired feature), we want to minimize this function during training. this says how happy or unhappy we are with our model performance.\n"
      ],
      "metadata": {
        "id": "1TVwmUobejb7"
      }
    },
    {
      "cell_type": "markdown",
      "source": [
        "## Optimizer\n",
        "it is a technique which determines how we are going to update our weights based on the loss function."
      ],
      "metadata": {
        "id": "m-H8R0ZMfEAy"
      }
    },
    {
      "cell_type": "markdown",
      "source": [
        "in this notebook we will use **Keras**, it is a model-level library, providing high-level building blocks for developing deep-learning models.\n",
        "it does not handle low level operations such as tensor manipulation and differentiation. instead, it relies on a specialized, well optimized tensor library to do so, serving as the backend engine for keras.\n",
        "Tensorflow is one of those library backends"
      ],
      "metadata": {
        "id": "4ds5akJooa2k"
      }
    },
    {
      "cell_type": "markdown",
      "source": [
        "## Building the model\n",
        "it is a movie recommendation system,wheter the customer liked it or not, and we decide that based on the text content of the reviews.\n"
      ],
      "metadata": {
        "id": "W9wnLYlOpDJr"
      }
    },
    {
      "cell_type": "code",
      "source": [
        "from keras.datasets import imdb\n",
        "(train_data, train_labels),(test_data,test_lables) = imdb.load_data(num_words = 15000)"
      ],
      "metadata": {
        "id": "G2hB1D2VZ9W9",
        "colab": {
          "base_uri": "https://localhost:8080/"
        },
        "outputId": "15ff669c-e126-44f9-876a-54a443b34861"
      },
      "execution_count": 1,
      "outputs": [
        {
          "output_type": "stream",
          "name": "stdout",
          "text": [
            "Downloading data from https://storage.googleapis.com/tensorflow/tf-keras-datasets/imdb.npz\n",
            "17465344/17464789 [==============================] - 0s 0us/step\n",
            "17473536/17464789 [==============================] - 0s 0us/step\n"
          ]
        }
      ]
    },
    {
      "cell_type": "markdown",
      "source": [
        "train_data and test_data are the reviews which endcoded into integers\n",
        "and the their labels are either 0 or 1, negative and positive respectively.\n",
        "num_words = 15000 means that we keep 15000 most frequently used words and discard the ones which happened to be used lesser."
      ],
      "metadata": {
        "id": "3JLOP0e6qyCp"
      }
    },
    {
      "cell_type": "code",
      "source": [
        "train_data[0]\n",
        "train_labels[0]"
      ],
      "metadata": {
        "colab": {
          "base_uri": "https://localhost:8080/"
        },
        "id": "xn5Syp-_qIAM",
        "outputId": "036b17e0-8477-41f1-d723-901c9e3372e6"
      },
      "execution_count": 2,
      "outputs": [
        {
          "output_type": "execute_result",
          "data": {
            "text/plain": [
              "1"
            ]
          },
          "metadata": {},
          "execution_count": 2
        }
      ]
    },
    {
      "cell_type": "code",
      "source": [
        "# train_data[0:10]"
      ],
      "metadata": {
        "id": "q8sYBz-YrVdY"
      },
      "execution_count": 3,
      "outputs": []
    },
    {
      "cell_type": "code",
      "source": [
        "max([max(sequence) for sequence in train_data])"
      ],
      "metadata": {
        "colab": {
          "base_uri": "https://localhost:8080/"
        },
        "id": "FA-1iEBMvepW",
        "outputId": "114720a5-9bb3-479f-da8d-f978bf62bca5"
      },
      "execution_count": 4,
      "outputs": [
        {
          "output_type": "execute_result",
          "data": {
            "text/plain": [
              "14999"
            ]
          },
          "metadata": {},
          "execution_count": 4
        }
      ]
    },
    {
      "cell_type": "code",
      "source": [
        "# lets decode one review back to words\n",
        "word_index = imdb.get_word_index()\n",
        "reverse_word_index = dict(\n",
        "    [(value,key) for (key,value) in word_index.items()])\n",
        "decode_review  = \" \".join(\n",
        "    [reverse_word_index.get(i-3,'?') for i in train_data[2]])\n"
      ],
      "metadata": {
        "id": "dZLYzQtQwYZK",
        "colab": {
          "base_uri": "https://localhost:8080/"
        },
        "outputId": "84e90f10-b754-4fc9-8c3a-238ea2488f98"
      },
      "execution_count": 5,
      "outputs": [
        {
          "output_type": "stream",
          "name": "stdout",
          "text": [
            "Downloading data from https://storage.googleapis.com/tensorflow/tf-keras-datasets/imdb_word_index.json\n",
            "1646592/1641221 [==============================] - 0s 0us/step\n",
            "1654784/1641221 [==============================] - 0s 0us/step\n"
          ]
        }
      ]
    },
    {
      "cell_type": "code",
      "source": [
        "decode_review[:]"
      ],
      "metadata": {
        "colab": {
          "base_uri": "https://localhost:8080/",
          "height": 105
        },
        "id": "9XpIl-ALxdZU",
        "outputId": "49316dd0-5308-4e1c-b362-aeb02fa9ebcc"
      },
      "execution_count": 6,
      "outputs": [
        {
          "output_type": "execute_result",
          "data": {
            "text/plain": [
              "\"? this has to be one of the worst films of the 1990s when my friends i were watching this film being the target audience it was aimed at we just sat watched the first half an hour with our jaws touching the floor at how bad it really was the rest of the time everyone else in the theatre just started talking to each other leaving or generally crying into their popcorn that they actually paid money they had ? working to watch this feeble excuse for a film it must have looked like a great idea on paper but on film it looks like no one in the film has a clue what is going on crap acting crap costumes i can't get across how ? this is to watch save yourself an hour a bit of your life\""
            ],
            "application/vnd.google.colaboratory.intrinsic+json": {
              "type": "string"
            }
          },
          "metadata": {},
          "execution_count": 6
        }
      ]
    },
    {
      "cell_type": "markdown",
      "source": [
        "For neural networks, the data should be in the form of tensors. \n",
        "and of the techniques to convert intgers into tensors is by using one-hot encoding, which turns all indices into zeros excet the ones which we are feeding."
      ],
      "metadata": {
        "id": "IrEEwp5PyVcw"
      }
    },
    {
      "cell_type": "code",
      "source": [
        "import numpy as np\n",
        "def vectorize_sequences(sequences,dimension=15000):\n",
        "  result = np.zeros((len(sequences),dimension))\n",
        "  for i , sequence in enumerate(sequences):\n",
        "    # set specific indices of results[i] to 1s\n",
        "    result[i,sequence] = 1\n",
        "  return result\n",
        "# vectorize the data\n",
        "x_train = vectorize_sequences(train_data)\n",
        "x_test = vectorize_sequences(test_data)"
      ],
      "metadata": {
        "id": "eLT7LUlrx6sK"
      },
      "execution_count": 7,
      "outputs": []
    },
    {
      "cell_type": "code",
      "source": [
        "x_train[0]"
      ],
      "metadata": {
        "colab": {
          "base_uri": "https://localhost:8080/"
        },
        "id": "ERvV4giJ0JmC",
        "outputId": "4937c0ca-c380-4573-e23f-1e637e0cf409"
      },
      "execution_count": 8,
      "outputs": [
        {
          "output_type": "execute_result",
          "data": {
            "text/plain": [
              "array([0., 1., 1., ..., 0., 0., 0.])"
            ]
          },
          "metadata": {},
          "execution_count": 8
        }
      ]
    },
    {
      "cell_type": "markdown",
      "source": [
        "Vectorize the labels too\n",
        "y_train = np.asarray(train_labels).astype('float32')"
      ],
      "metadata": {
        "id": "2jckiR9u0aDa"
      }
    },
    {
      "cell_type": "code",
      "source": [
        "y_train = np.asarray(train_labels).astype('float32')\n",
        "y_test = np.asarray(test_lables).astype('float32')"
      ],
      "metadata": {
        "id": "EAD7rcIR0Vrh"
      },
      "execution_count": 9,
      "outputs": []
    },
    {
      "cell_type": "markdown",
      "source": [
        "## Building the model\n",
        "Here, our inputs are in vector form and outputs are a single number(0 or 1)\n"
      ],
      "metadata": {
        "id": "gDHAIkPLP3U5"
      }
    },
    {
      "cell_type": "code",
      "source": [
        "from keras import models\n",
        "from keras import layers"
      ],
      "metadata": {
        "id": "eJ-9kMpa0uco"
      },
      "execution_count": 10,
      "outputs": []
    },
    {
      "cell_type": "code",
      "source": [
        "model = models.Sequential()\n",
        "model.add(layers.Dense(16,activation='relu',input_shape=(15000,) ))\n",
        "model.add(layers.Dense(16,activation ='relu'))\n",
        "model.add(layers.Dense(1,activation=\"sigmoid\"))"
      ],
      "metadata": {
        "id": "o6tgle5P1QsN"
      },
      "execution_count": 11,
      "outputs": []
    },
    {
      "cell_type": "markdown",
      "source": [
        "## Compiling the model\n",
        "in this step we need to do two things, one is adding the ***loss*** function to measures how our output and the true outputs deviate and the 2nd one is adding an **optimizer** to use the loss and make adjustments based on the, by adjustments we mean chaging the learnable parameters such that make our model output closer to the true output.\n",
        "\n",
        "We have different way of measuring the loss function, in this model as we are having binary output, the ***'binary-crossentropy*'** is the most common one to use, it measures the distance between the true distribution and our model output.\n",
        "\n",
        "and ***RMSProp*** is one of the adaptive learning algorithm which helps us to reach to the optimial point, it uses the past history data to converge faster but in different way, in Adagrad we use the whole past history data to decide for the next move, but RMSProp do not consider the data which are from extremelp past, so that to converge faster once it finds the convex bowl."
      ],
      "metadata": {
        "id": "u4yELBtPTk3S"
      }
    },
    {
      "cell_type": "markdown",
      "source": [
        ""
      ],
      "metadata": {
        "id": "IkKHiI8kTk_J"
      }
    },
    {
      "cell_type": "code",
      "source": [
        "model.compile(optimizer = \"rmsprop\", \n",
        "              loss = \"BinaryCrossentropy\",\n",
        "              metrics = ['accuracy'])"
      ],
      "metadata": {
        "id": "SvAt1sGnTECw"
      },
      "execution_count": 12,
      "outputs": []
    },
    {
      "cell_type": "markdown",
      "source": [
        ""
      ],
      "metadata": {
        "id": "NZdsVNN_nEHL"
      }
    },
    {
      "cell_type": "markdown",
      "source": [
        "## Validation \n",
        "Our main objective in building a model is to get the best result while facing a new input, if our model is doing good (here we measuring it with accuracy) only on training data, it means it is just memorizing the labels which has been given to them during training, to check how good our model will do while seeing a new input, we will keep soem of the data to test the model. it is knwon is validation set. \n",
        "\n",
        "Once we observe that the validaiton accuracy is decreasing and training accuract going at that we will stop the training, it is one of the regualarization techniques which is called early stopping, we go throgh this later."
      ],
      "metadata": {
        "id": "FKQul3gLXjoo"
      }
    },
    {
      "cell_type": "code",
      "source": [
        "x_validation = x_train[:15000]\n",
        "x_new_train_data = x_train[15000:]\n",
        "y_validation = y_train[:15000]\n",
        "y_new_train_labels = y_train[15000:]"
      ],
      "metadata": {
        "id": "XiQ_8CqnSqpG"
      },
      "execution_count": 13,
      "outputs": []
    },
    {
      "cell_type": "markdown",
      "source": [
        "**batch_size** means for how many samples you are going to correct them each time you go through, usually choose the batch size = 2^N, N can be any number.\n",
        "\n",
        "**epochs** means how many times we are going to check and correct the errors."
      ],
      "metadata": {
        "id": "AclvAFoYu80d"
      }
    },
    {
      "cell_type": "code",
      "source": [
        "History = model.fit(x_new_train_data,y_new_train_labels,epochs = 15, batch_size = 256, validation_data = (x_validation,y_validation))"
      ],
      "metadata": {
        "colab": {
          "base_uri": "https://localhost:8080/"
        },
        "id": "WVr30719mmLB",
        "outputId": "ac0e17e8-b3fd-4766-a253-34e693553346"
      },
      "execution_count": 14,
      "outputs": [
        {
          "output_type": "stream",
          "name": "stdout",
          "text": [
            "Epoch 1/15\n",
            "40/40 [==============================] - 6s 56ms/step - loss: 0.5081 - accuracy: 0.7963 - val_loss: 0.3740 - val_accuracy: 0.8768\n",
            "Epoch 2/15\n",
            "40/40 [==============================] - 1s 21ms/step - loss: 0.2721 - accuracy: 0.9191 - val_loss: 0.3210 - val_accuracy: 0.8716\n",
            "Epoch 3/15\n",
            "40/40 [==============================] - 1s 22ms/step - loss: 0.1783 - accuracy: 0.9471 - val_loss: 0.2811 - val_accuracy: 0.8869\n",
            "Epoch 4/15\n",
            "40/40 [==============================] - 1s 22ms/step - loss: 0.1228 - accuracy: 0.9662 - val_loss: 0.3075 - val_accuracy: 0.8795\n",
            "Epoch 5/15\n",
            "40/40 [==============================] - 1s 22ms/step - loss: 0.0848 - accuracy: 0.9794 - val_loss: 0.4448 - val_accuracy: 0.8385\n",
            "Epoch 6/15\n",
            "40/40 [==============================] - 1s 22ms/step - loss: 0.0596 - accuracy: 0.9871 - val_loss: 0.4520 - val_accuracy: 0.8495\n",
            "Epoch 7/15\n",
            "40/40 [==============================] - 1s 22ms/step - loss: 0.0421 - accuracy: 0.9916 - val_loss: 0.4216 - val_accuracy: 0.8636\n",
            "Epoch 8/15\n",
            "40/40 [==============================] - 1s 22ms/step - loss: 0.0265 - accuracy: 0.9953 - val_loss: 0.4179 - val_accuracy: 0.8733\n",
            "Epoch 9/15\n",
            "40/40 [==============================] - 1s 22ms/step - loss: 0.0163 - accuracy: 0.9980 - val_loss: 0.4690 - val_accuracy: 0.8696\n",
            "Epoch 10/15\n",
            "40/40 [==============================] - 1s 22ms/step - loss: 0.0094 - accuracy: 0.9986 - val_loss: 0.5338 - val_accuracy: 0.8693\n",
            "Epoch 11/15\n",
            "40/40 [==============================] - 1s 22ms/step - loss: 0.0051 - accuracy: 0.9997 - val_loss: 0.6035 - val_accuracy: 0.8681\n",
            "Epoch 12/15\n",
            "40/40 [==============================] - 1s 22ms/step - loss: 0.0030 - accuracy: 0.9997 - val_loss: 0.6607 - val_accuracy: 0.8663\n",
            "Epoch 13/15\n",
            "40/40 [==============================] - 1s 22ms/step - loss: 0.0017 - accuracy: 0.9999 - val_loss: 0.7408 - val_accuracy: 0.8647\n",
            "Epoch 14/15\n",
            "40/40 [==============================] - 1s 22ms/step - loss: 8.0957e-04 - accuracy: 0.9999 - val_loss: 0.8033 - val_accuracy: 0.8655\n",
            "Epoch 15/15\n",
            "40/40 [==============================] - 1s 22ms/step - loss: 3.9939e-04 - accuracy: 0.9999 - val_loss: 0.8941 - val_accuracy: 0.8640\n"
          ]
        }
      ]
    },
    {
      "cell_type": "markdown",
      "source": [
        "if we look at above calcuations, after 5th epoch, the validation accuracy is decreasing, that is where we have to stop training, because after that the model is learning unwanted patterns and features."
      ],
      "metadata": {
        "id": "s6kxgLIao8VB"
      }
    },
    {
      "cell_type": "code",
      "source": [
        "\n",
        "history_dictionary = History.history"
      ],
      "metadata": {
        "id": "I-AMY38Wm8BM"
      },
      "execution_count": 15,
      "outputs": []
    },
    {
      "cell_type": "code",
      "source": [
        "history_dictionary.keys()"
      ],
      "metadata": {
        "colab": {
          "base_uri": "https://localhost:8080/"
        },
        "id": "Y0gHJHLKnuaU",
        "outputId": "58da5b67-54b7-424f-a43d-d118cfdac2b0"
      },
      "execution_count": 16,
      "outputs": [
        {
          "output_type": "execute_result",
          "data": {
            "text/plain": [
              "dict_keys(['loss', 'accuracy', 'val_loss', 'val_accuracy'])"
            ]
          },
          "metadata": {},
          "execution_count": 16
        }
      ]
    },
    {
      "cell_type": "markdown",
      "source": [
        "by using above keys we can plot these parameters too look closer into them."
      ],
      "metadata": {
        "id": "grJta8ItpWZa"
      }
    },
    {
      "cell_type": "code",
      "source": [
        "from keras.metrics import accuracy\n",
        "import matplotlib.pyplot as plt\n",
        "loss_va = history_dictionary['loss']\n",
        "validation_loss = history_dictionary['val_loss']\n",
        "accuracy_va = history_dictionary['accuracy']\n",
        "validation_accuracy = history_dictionary['val_accuracy']\n",
        "epochs = range(1,len(accuracy_va)+1)\n",
        "\n"
      ],
      "metadata": {
        "id": "h8l1hO5Kn2oq"
      },
      "execution_count": 17,
      "outputs": []
    },
    {
      "cell_type": "markdown",
      "source": [
        "## Plotting training and validation Loss"
      ],
      "metadata": {
        "id": "rQZ2kQNnsG4q"
      }
    },
    {
      "cell_type": "code",
      "source": [
        "plt.plot(epochs,loss_va,'*',label =\"Training Loss\")\n",
        "plt.plot(epochs,validation_loss,c = \"green\",label =\"Validation Loss\")\n",
        "plt.title('Training and Validation Loss')\n",
        "plt.xlabel(\"Epochs\")\n",
        "plt.ylabel(\"Loss\")\n",
        "plt.legend()\n",
        "plt.show()"
      ],
      "metadata": {
        "colab": {
          "base_uri": "https://localhost:8080/",
          "height": 295
        },
        "id": "n4ToCR49sHdF",
        "outputId": "a40f3fd8-462a-476b-bf6e-714cba99ffb4"
      },
      "execution_count": 18,
      "outputs": [
        {
          "output_type": "display_data",
          "data": {
            "text/plain": [
              "<Figure size 432x288 with 1 Axes>"
            ],
            "image/png": "[encoded data removed]"
          },
          "metadata": {
            "needs_background": "light"
          }
        }
      ]
    },
    {
      "cell_type": "markdown",
      "source": [
        "## Plotting training and validation accuracy"
      ],
      "metadata": {
        "id": "wlp9W5LasRrG"
      }
    },
    {
      "cell_type": "code",
      "source": [
        "plt.plot(epochs,accuracy_va,'*',label =\"Training accuracy\")\n",
        "plt.plot(epochs,validation_accuracy,c = \"green\",label =\"Validation accuracy\")\n",
        "plt.title('Training and Validation accuracy')\n",
        "plt.xlabel(\"Epochs\")\n",
        "plt.ylabel(\"Loss\")\n",
        "plt.legend()\n",
        "plt.show()"
      ],
      "metadata": {
        "colab": {
          "base_uri": "https://localhost:8080/",
          "height": 295
        },
        "id": "iSqBLyXDqWWk",
        "outputId": "5fba7970-5a74-4e6c-89c7-21367ce6fc5f"
      },
      "execution_count": 19,
      "outputs": [
        {
          "output_type": "display_data",
          "data": {
            "text/plain": [
              "<Figure size 432x288 with 1 Axes>"
            ],
            "image/png": "[encoded data removed]"
          },
          "metadata": {
            "needs_background": "light"
          }
        }
      ]
    },
    {
      "cell_type": "markdown",
      "source": [
        "## Checking on Test set?"
      ],
      "metadata": {
        "id": "I_dvvseisuEg"
      }
    },
    {
      "cell_type": "code",
      "source": [
        "resulsts = model.evaluate(x_test,y_test)"
      ],
      "metadata": {
        "colab": {
          "base_uri": "https://localhost:8080/"
        },
        "id": "LYVc-_Opr-Pg",
        "outputId": "71ed256a-8610-4172-ea9f-33c74863c3ce"
      },
      "execution_count": 20,
      "outputs": [
        {
          "output_type": "stream",
          "name": "stdout",
          "text": [
            "782/782 [==============================] - 2s 3ms/step - loss: 0.9691 - accuracy: 0.8485\n"
          ]
        }
      ]
    },
    {
      "cell_type": "markdown",
      "source": [
        "## Conclusion\n",
        "we trained our model on the imdb dataset, by using the loss and optimizers we could compute the loss and find the optimal points and at the end we fit our model where the true learning happens.\n",
        "\n",
        "we observed both with validation and training data to check performance of our model and we could see that after 5th epoch the validation accuaracy wa going down, by using early stopping regularization we could train only for 5 epochs.\n",
        "\n",
        "Finally , we plot the validation and training losses and accuriacies against each to be more interpretable."
      ],
      "metadata": {
        "id": "nxgHslZptzRw"
      }
    }
  ]
}